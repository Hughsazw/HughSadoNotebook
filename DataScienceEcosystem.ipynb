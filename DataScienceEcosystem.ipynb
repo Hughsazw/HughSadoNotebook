{
 "cells": [
  {
   "cell_type": "markdown",
   "id": "0d2422c9-804a-449a-8edd-9eb825d98c6c",
   "metadata": {},
   "source": [
    "# Data Science Tools and Ecosystem"
   ]
  },
  {
   "cell_type": "markdown",
   "id": "984079ef-d631-4df5-80a8-61dc98d6f55e",
   "metadata": {},
   "source": [
    "In this notebook, Data Science Tools and Ecosystem are summarized."
   ]
  },
  {
   "cell_type": "markdown",
   "id": "bfdc0887-7c29-45d7-a685-d19cae4f87bf",
   "metadata": {
    "jupyter": {
     "source_hidden": true
    }
   },
   "source": [
    "Some of the popular languages that Data Scientists use are:\n",
    "1. Python\n",
    "2. R\n",
    "3. SQL\n",
    "4. Julia"
   ]
  },
  {
   "cell_type": "markdown",
   "id": "19a2d6bb-d42e-4223-a8a2-0fe873a561d5",
   "metadata": {},
   "source": [
    "Some of the commonly used libraries used by Data Scientists include:\n",
    "\n",
    "i. NumPy\n",
    "\n",
    "ii. Scikit-Learn\n",
    "\n",
    "iii. Tensorflow\n",
    "\n",
    "iv. Matplotlib\n",
    "\n"
   ]
  },
  {
   "cell_type": "markdown",
   "id": "1ad9343a-6aa1-4247-afcd-9d31b5c8986d",
   "metadata": {},
   "source": [
    "# Data Science Tools\n",
    "\n",
    "|Data Science Tools|\n",
    "| -------------|\n",
    "| Git |\n",
    "| Jupyter|\n",
    "| RStudio|\n"
   ]
  },
  {
   "cell_type": "markdown",
   "id": "2b7b350c-f397-4759-bd9b-6ec884d6e941",
   "metadata": {},
   "source": [
    "### Below are a few examples of evaluating arithmetic expressions in Python\n",
    "\n",
    "*Addition Operation*\n",
    "    \n",
    "7+8\n",
    "\n",
    "*Subtraction operation*\n",
    "\n",
    "10-3\n"
   ]
  },
  {
   "cell_type": "code",
   "execution_count": 9,
   "id": "89ffdcbf-740e-4c74-b87a-1846f43659d8",
   "metadata": {},
   "outputs": [
    {
     "data": {
      "text/plain": [
       "17"
      ]
     },
     "execution_count": 9,
     "metadata": {},
     "output_type": "execute_result"
    }
   ],
   "source": [
    "#This a simple arithmetic expression to mutiply then add integers\n",
    "(3*4)+5\n",
    "\n"
   ]
  },
  {
   "cell_type": "code",
   "execution_count": 11,
   "id": "ed9288a4-c8e3-43ef-bc42-f2c0b382f3f5",
   "metadata": {},
   "outputs": [
    {
     "data": {
      "text/plain": [
       "3.3333333333333335"
      ]
     },
     "execution_count": 11,
     "metadata": {},
     "output_type": "execute_result"
    }
   ],
   "source": [
    "#This will convert 200 minutes to hours by diving by 60\n",
    "\n",
    "200/60"
   ]
  },
  {
   "cell_type": "markdown",
   "id": "0d8afc82-b07d-45a2-871e-12774a39bcb9",
   "metadata": {},
   "source": [
    "# Objectives: #\n",
    "\n",
    "* List popular languages for Data Science\n",
    "\n",
    "* Data Science tools\n",
    "\n",
    "* Commonly used libraries by Data Scientists"
   ]
  },
  {
   "cell_type": "markdown",
   "id": "01f6c4f3-9005-4ccd-86be-6e35dab827fa",
   "metadata": {},
   "source": [
    "## Author\n",
    "\n",
    "Hugh Sado"
   ]
  },
  {
   "cell_type": "code",
   "execution_count": null,
   "id": "cd05f7e1-df89-4f00-ba99-c2df886df23d",
   "metadata": {},
   "outputs": [],
   "source": []
  }
 ],
 "metadata": {
  "kernelspec": {
   "display_name": "Python 3 (ipykernel)",
   "language": "python",
   "name": "python3"
  },
  "language_info": {
   "codemirror_mode": {
    "name": "ipython",
    "version": 3
   },
   "file_extension": ".py",
   "mimetype": "text/x-python",
   "name": "python",
   "nbconvert_exporter": "python",
   "pygments_lexer": "ipython3",
   "version": "3.12.7"
  }
 },
 "nbformat": 4,
 "nbformat_minor": 5
}
